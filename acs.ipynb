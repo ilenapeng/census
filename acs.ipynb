{
  "nbformat": 4,
  "nbformat_minor": 0,
  "metadata": {
    "colab": {
      "name": "acs.ipynb",
      "provenance": []
    },
    "kernelspec": {
      "name": "python3",
      "display_name": "Python 3"
    },
    "language_info": {
      "name": "python"
    }
  },
  "cells": [
    {
      "cell_type": "code",
      "metadata": {
        "id": "EgO0nZGbsTdT"
      },
      "source": [
        "!pip install cenpy"
      ],
      "execution_count": null,
      "outputs": []
    },
    {
      "cell_type": "code",
      "metadata": {
        "id": "CG8D3TcysXzA",
        "colab": {
          "base_uri": "https://localhost:8080/"
        },
        "outputId": "60d91553-514c-4fa7-8d7f-397919b141c3"
      },
      "source": [
        "import altair as alt\n",
        "import cenpy as cen\n",
        "import pandas as pd\n",
        "import geopandas as gpd\n",
        "\n",
        "from getpass import getpass\n",
        "from google.colab import files"
      ],
      "execution_count": 3,
      "outputs": [
        {
          "output_type": "stream",
          "name": "stderr",
          "text": [
            "/usr/local/lib/python3.7/dist-packages/fuzzywuzzy/fuzz.py:11: UserWarning: Using slow pure-python SequenceMatcher. Install python-Levenshtein to remove this warning\n",
            "  warnings.warn('Using slow pure-python SequenceMatcher. Install python-Levenshtein to remove this warning')\n"
          ]
        }
      ]
    },
    {
      "cell_type": "code",
      "metadata": {
        "colab": {
          "base_uri": "https://localhost:8080/"
        },
        "id": "MSi-udLPsZMP",
        "outputId": "f8e3a227-0092-4b8c-bc1f-8dfeda6c4014"
      },
      "source": [
        "CENSUS_API_KEY = getpass('Enter your Census API Key: ')"
      ],
      "execution_count": 4,
      "outputs": [
        {
          "name": "stdout",
          "output_type": "stream",
          "text": [
            "Enter your Census API Key: ··········\n"
          ]
        }
      ]
    },
    {
      "cell_type": "code",
      "metadata": {
        "id": "mmImvDhqnNuQ"
      },
      "source": [
        "# For changing output rows\n",
        "# pd.set_option('display.max_rows', None)\n",
        "# pd.set_option('display.max_rows', 10)"
      ],
      "execution_count": null,
      "outputs": []
    },
    {
      "cell_type": "code",
      "metadata": {
        "id": "vVwCUQccsjKH"
      },
      "source": [
        "acs = cen.products.ACS()"
      ],
      "execution_count": null,
      "outputs": []
    },
    {
      "cell_type": "code",
      "metadata": {
        "id": "4EV0iOzosmuf"
      },
      "source": [
        "acs.tables"
      ],
      "execution_count": null,
      "outputs": []
    },
    {
      "cell_type": "code",
      "metadata": {
        "id": "1KHVuNCWu-OS"
      },
      "source": [
        "acs.filter_variables('B07204')"
      ],
      "execution_count": null,
      "outputs": []
    },
    {
      "cell_type": "markdown",
      "metadata": {
        "id": "5cZD-bvZ9O1F"
      },
      "source": [
        "2019 data"
      ]
    },
    {
      "cell_type": "code",
      "metadata": {
        "id": "a0PQSs2JvF6p"
      },
      "source": [
        "con = cen.remote.APIConnection('ACSDT5Y2019',apikey=CENSUS_API_KEY)\n",
        "\n",
        "# The columns to analyze\n",
        "columns = [\n",
        "'B07204_001E', #Estimate Total \n",
        "'B07204_002E', #Same house as last year \n",
        "'B07204_003E', #Different house as last year\n",
        "'B07204_004E', #If different house as last year, moved within same city/town -- MOVED WITHIN NYC\n",
        "'B07204_005E', #If moved within same city/town, in the same county still -- MOVED IN NYC, WITHIN MANHATTAN/NY COUNTY\n",
        "'B07204_006E', #If moved within the same city/town, moved to a different county in the same state -- MOVED IN NYC, TO ANOTHER BOROUGH\n",
        "'B07204_007E', #If different house as last year, moved ELSEWHERE (NOT same city/town) -- MOVED OUT OF NYC\n",
        "'B07204_008E', #If different house as last year and moved ELSEWHERE, in same county -- MOVED OUT OF NYC, BUT IN MANHATTAN -- IMPOSSIBLE, SO THESE #S ARE ALL ZERO\n",
        "'B07204_009E', #If different house as last year and moved ELSEWHERE, in different county -- MOVED OUT OF ALL NYC COUNTIES / OUT OF NY -- 7 & 9 ARE THE SAME\n",
        "'B07204_010E', #If different house as last year and moved ELSEWHERE, in same state -- MOVED ELSEWHERE IN NY\n",
        "'B07204_011E', #If different house as last year and moved ELSEWHERE, different state -- MOVED OUT OF NY STATE\n",
        "]\n",
        "\n",
        "# Pct out of the people in a different house as last year\n",
        " \n",
        "g_unit = 'tract'\n",
        "g_filter_manhattan = {'state':'36', 'county': '061'} \n",
        "# g_filter_queens = {'state':'36', 'county': '081'}\n",
        "\n",
        "manhattanACS_19 = con.query(columns, geo_unit=g_unit, geo_filter=g_filter_manhattan)"
      ],
      "execution_count": 6,
      "outputs": []
    },
    {
      "cell_type": "code",
      "metadata": {
        "id": "NgGc1imq33rC"
      },
      "source": [
        "#define tracts for communities\n",
        "chinatown_tracts = ['002900', '004100', '001600']\n",
        "\n",
        "#filter to those communities\n",
        "chinatown_19 = manhattanACS_19[manhattanACS_19['tract'].isin(chinatown_tracts)]"
      ],
      "execution_count": 7,
      "outputs": []
    },
    {
      "cell_type": "code",
      "metadata": {
        "colab": {
          "base_uri": "https://localhost:8080/",
          "height": 162
        },
        "id": "fULiTH0hNyCv",
        "outputId": "94aaa8de-c3ad-43c1-ebe9-57bdcc0483c4"
      },
      "source": [
        "chinatown_19.head(5)"
      ],
      "execution_count": 8,
      "outputs": [
        {
          "output_type": "execute_result",
          "data": {
            "text/html": [
              "<div>\n",
              "<style scoped>\n",
              "    .dataframe tbody tr th:only-of-type {\n",
              "        vertical-align: middle;\n",
              "    }\n",
              "\n",
              "    .dataframe tbody tr th {\n",
              "        vertical-align: top;\n",
              "    }\n",
              "\n",
              "    .dataframe thead th {\n",
              "        text-align: right;\n",
              "    }\n",
              "</style>\n",
              "<table border=\"1\" class=\"dataframe\">\n",
              "  <thead>\n",
              "    <tr style=\"text-align: right;\">\n",
              "      <th></th>\n",
              "      <th>B07204_001E</th>\n",
              "      <th>B07204_002E</th>\n",
              "      <th>B07204_003E</th>\n",
              "      <th>B07204_004E</th>\n",
              "      <th>B07204_005E</th>\n",
              "      <th>B07204_006E</th>\n",
              "      <th>B07204_007E</th>\n",
              "      <th>B07204_008E</th>\n",
              "      <th>B07204_009E</th>\n",
              "      <th>B07204_010E</th>\n",
              "      <th>B07204_011E</th>\n",
              "      <th>state</th>\n",
              "      <th>county</th>\n",
              "      <th>tract</th>\n",
              "    </tr>\n",
              "  </thead>\n",
              "  <tbody>\n",
              "    <tr>\n",
              "      <th>25</th>\n",
              "      <td>6844</td>\n",
              "      <td>6420</td>\n",
              "      <td>407</td>\n",
              "      <td>295</td>\n",
              "      <td>222</td>\n",
              "      <td>73</td>\n",
              "      <td>112</td>\n",
              "      <td>0</td>\n",
              "      <td>112</td>\n",
              "      <td>0</td>\n",
              "      <td>112</td>\n",
              "      <td>36</td>\n",
              "      <td>061</td>\n",
              "      <td>001600</td>\n",
              "    </tr>\n",
              "    <tr>\n",
              "      <th>51</th>\n",
              "      <td>7981</td>\n",
              "      <td>6499</td>\n",
              "      <td>1300</td>\n",
              "      <td>714</td>\n",
              "      <td>540</td>\n",
              "      <td>174</td>\n",
              "      <td>586</td>\n",
              "      <td>0</td>\n",
              "      <td>586</td>\n",
              "      <td>66</td>\n",
              "      <td>520</td>\n",
              "      <td>36</td>\n",
              "      <td>061</td>\n",
              "      <td>004100</td>\n",
              "    </tr>\n",
              "    <tr>\n",
              "      <th>202</th>\n",
              "      <td>5794</td>\n",
              "      <td>4604</td>\n",
              "      <td>1149</td>\n",
              "      <td>776</td>\n",
              "      <td>458</td>\n",
              "      <td>318</td>\n",
              "      <td>373</td>\n",
              "      <td>0</td>\n",
              "      <td>373</td>\n",
              "      <td>321</td>\n",
              "      <td>52</td>\n",
              "      <td>36</td>\n",
              "      <td>061</td>\n",
              "      <td>002900</td>\n",
              "    </tr>\n",
              "  </tbody>\n",
              "</table>\n",
              "</div>"
            ],
            "text/plain": [
              "    B07204_001E B07204_002E B07204_003E  ... state county   tract\n",
              "25         6844        6420         407  ...    36    061  001600\n",
              "51         7981        6499        1300  ...    36    061  004100\n",
              "202        5794        4604        1149  ...    36    061  002900\n",
              "\n",
              "[3 rows x 14 columns]"
            ]
          },
          "metadata": {},
          "execution_count": 8
        }
      ]
    },
    {
      "cell_type": "code",
      "metadata": {
        "id": "wyOnn9kK7Whq"
      },
      "source": [
        "#add identifier for year for when we combine datasets\n",
        "chinatown_19['year'] = 2019"
      ],
      "execution_count": null,
      "outputs": []
    },
    {
      "cell_type": "markdown",
      "metadata": {
        "id": "gCar_ib29QYT"
      },
      "source": [
        "2018 data"
      ]
    },
    {
      "cell_type": "code",
      "metadata": {
        "id": "Tq_8iatN9Q_3"
      },
      "source": [
        "con = cen.remote.APIConnection('ACSDT5Y2018',apikey=CENSUS_API_KEY)\n",
        "\n",
        "# We then want to identify the columns we want to analyze.\n",
        "columns = [\n",
        "'B07204_001E', #Estimate Total \n",
        "'B07204_002E', #Same house as last year \n",
        "'B07204_003E', #Different house as last year\n",
        "'B07204_004E', #If different house as last year, moved within same city/town\n",
        "'B07204_005E', #If moved within same city/town, in the same county still\n",
        "'B07204_006E', #If moved within the same city/town, moved to a different county in the same state\n",
        "'B07204_007E', #If different house as last year, moved ELSEWHERE (NOT same city/town)\n",
        "'B07204_008E', #If different house as last year and moved ELSEWHERE, in same county\n",
        "'B07204_009E', #If different house as last year and moved ELSEWHERE, in different county \n",
        "'B07204_010E', #If different house as last year and moved ELSEWHERE, in same state \n",
        "'B07204_011E', #If different house as last year and moved ELSEWHERE, different state\n",
        "]\n",
        " \n",
        "g_unit = 'tract'\n",
        "g_filter_manhattan = {'state':'36', 'county': '061'} \n",
        "\n",
        "manhattanACS_18 = con.query(columns, geo_unit=g_unit, geo_filter=g_filter_manhattan)"
      ],
      "execution_count": 10,
      "outputs": []
    },
    {
      "cell_type": "code",
      "metadata": {
        "id": "r-f40cbc9nHm"
      },
      "source": [
        "#filter\n",
        "chinatown_18 = manhattanACS_18[manhattanACS_18['tract'].isin(chinatown_tracts)]\n",
        "\n",
        "#add identifier for year for when we combine datasets\n",
        "chinatown_18['year'] = 2018"
      ],
      "execution_count": null,
      "outputs": []
    },
    {
      "cell_type": "markdown",
      "metadata": {
        "id": "rUHBKQQB-x9o"
      },
      "source": [
        "2017 data"
      ]
    },
    {
      "cell_type": "code",
      "metadata": {
        "id": "v9qPg8xI-zan"
      },
      "source": [
        "con = cen.remote.APIConnection('ACSDT5Y2017',apikey=CENSUS_API_KEY)\n",
        "\n",
        "# We then want to identify the columns we want to analyze.\n",
        "columns = [\n",
        "'B07204_001E', #Estimate Total \n",
        "'B07204_002E', #Same house as last year \n",
        "'B07204_003E', #Different house as last year\n",
        "'B07204_004E', #If different house as last year, moved within same city/town\n",
        "'B07204_005E', #If moved within same city/town, in the same county still\n",
        "'B07204_006E', #If moved within the same city/town, moved to a different county in the same state\n",
        "'B07204_007E', #If different house as last year, moved ELSEWHERE (NOT same city/town)\n",
        "'B07204_008E', #If different house as last year and moved ELSEWHERE, in same county\n",
        "'B07204_009E', #If different house as last year and moved ELSEWHERE, in different county \n",
        "'B07204_010E', #If different house as last year and moved ELSEWHERE, in same state \n",
        "'B07204_011E', #If different house as last year and moved ELSEWHERE, different state\n",
        "]\n",
        " \n",
        "g_unit = 'tract'\n",
        "g_filter_manhattan = {'state':'36', 'county': '061'} \n",
        "\n",
        "manhattanACS_17 = con.query(columns, geo_unit=g_unit, geo_filter=g_filter_manhattan)"
      ],
      "execution_count": 12,
      "outputs": []
    },
    {
      "cell_type": "code",
      "metadata": {
        "id": "Sguj_ksX-6eT"
      },
      "source": [
        "#filter to only chinatown\n",
        "chinatown_17 = manhattanACS_17[manhattanACS_17['tract'].isin(chinatown_tracts)]\n",
        "\n",
        "#add identifier for year for when we combine datasets\n",
        "chinatown_17['year'] = 2017"
      ],
      "execution_count": null,
      "outputs": []
    },
    {
      "cell_type": "markdown",
      "metadata": {
        "id": "keQMyAkB_OMI"
      },
      "source": [
        "2016 data"
      ]
    },
    {
      "cell_type": "code",
      "metadata": {
        "id": "XIvPqjxt_RFa"
      },
      "source": [
        "con = cen.remote.APIConnection('ACSDT5Y2016',apikey=CENSUS_API_KEY)\n",
        "\n",
        "# We then want to identify the columns we want to analyze.\n",
        "columns = [\n",
        "'B07204_001E', #Estimate Total \n",
        "'B07204_002E', #Same house as last year \n",
        "'B07204_003E', #Different house as last year\n",
        "'B07204_004E', #If different house as last year, moved within same city/town\n",
        "'B07204_005E', #If moved within same city/town, in the same county still\n",
        "'B07204_006E', #If moved within the same city/town, moved to a different county in the same state\n",
        "'B07204_007E', #If different house as last year, moved ELSEWHERE (NOT same city/town)\n",
        "'B07204_008E', #If different house as last year and moved ELSEWHERE, in same county\n",
        "'B07204_009E', #If different house as last year and moved ELSEWHERE, in different county \n",
        "'B07204_010E', #If different house as last year and moved ELSEWHERE, in same state \n",
        "'B07204_011E', #If different house as last year and moved ELSEWHERE, different state\n",
        "]\n",
        " \n",
        "g_unit = 'tract'\n",
        "g_filter_manhattan = {'state':'36', 'county': '061'} \n",
        "\n",
        "manhattanACS_16 = con.query(columns, geo_unit=g_unit, geo_filter=g_filter_manhattan)"
      ],
      "execution_count": 14,
      "outputs": []
    },
    {
      "cell_type": "code",
      "metadata": {
        "id": "4Az6OsWD_Scw"
      },
      "source": [
        "#filter to only chinatown\n",
        "chinatown_16 = manhattanACS_16[manhattanACS_16['tract'].isin(chinatown_tracts)]\n",
        "\n",
        "#add identifier for year for when we combine datasets\n",
        "chinatown_16['year'] = 2016"
      ],
      "execution_count": null,
      "outputs": []
    },
    {
      "cell_type": "markdown",
      "metadata": {
        "id": "0m_K3cbj_kUV"
      },
      "source": [
        "2015 data"
      ]
    },
    {
      "cell_type": "code",
      "metadata": {
        "id": "C0qKR1MU_lFT"
      },
      "source": [
        "con = cen.remote.APIConnection('ACSDT5Y2015',apikey=CENSUS_API_KEY)\n",
        "\n",
        "# We then want to identify the columns we want to analyze.\n",
        "columns = [\n",
        "'B07204_001E', #Estimate Total \n",
        "'B07204_002E', #Same house as last year \n",
        "'B07204_003E', #Different house as last year\n",
        "'B07204_004E', #If different house as last year, moved within same city/town\n",
        "'B07204_005E', #If moved within same city/town, in the same county still\n",
        "'B07204_006E', #If moved within the same city/town, moved to a different county in the same state\n",
        "'B07204_007E', #If different house as last year, moved ELSEWHERE (NOT same city/town)\n",
        "'B07204_008E', #If different house as last year and moved ELSEWHERE, in same county\n",
        "'B07204_009E', #If different house as last year and moved ELSEWHERE, in different county \n",
        "'B07204_010E', #If different house as last year and moved ELSEWHERE, in same state \n",
        "'B07204_011E', #If different house as last year and moved ELSEWHERE, different state\n",
        "]\n",
        " \n",
        "g_unit = 'tract'\n",
        "g_filter_manhattan = {'state':'36', 'county': '061'} \n",
        "\n",
        "manhattanACS_15 = con.query(columns, geo_unit=g_unit, geo_filter=g_filter_manhattan)"
      ],
      "execution_count": 20,
      "outputs": []
    },
    {
      "cell_type": "code",
      "metadata": {
        "id": "30-BAdfu_nxL"
      },
      "source": [
        "#filter to only chinatown\n",
        "chinatown_15 = manhattanACS_15[manhattanACS_15['tract'].isin(chinatown_tracts)]\n",
        "\n",
        "#add identifier for year for when we combine datasets\n",
        "chinatown_15['year'] = 2015"
      ],
      "execution_count": null,
      "outputs": []
    },
    {
      "cell_type": "markdown",
      "metadata": {
        "id": "D0Ot_05ls0FA"
      },
      "source": [
        "2014 data"
      ]
    },
    {
      "cell_type": "code",
      "metadata": {
        "id": "DL9kUwCos1I0"
      },
      "source": [
        "con = cen.remote.APIConnection('ACSDT5Y2014',apikey=CENSUS_API_KEY)\n",
        "\n",
        "# We then want to identify the columns we want to analyze.\n",
        "columns = [\n",
        "'B07204_001E', #Estimate Total \n",
        "'B07204_002E', #Same house as last year \n",
        "'B07204_003E', #Different house as last year\n",
        "'B07204_004E', #If different house as last year, moved within same city/town\n",
        "'B07204_005E', #If moved within same city/town, in the same county still\n",
        "'B07204_006E', #If moved within the same city/town, moved to a different county in the same state\n",
        "'B07204_007E', #If different house as last year, moved ELSEWHERE (NOT same city/town)\n",
        "'B07204_008E', #If different house as last year and moved ELSEWHERE, in same county\n",
        "'B07204_009E', #If different house as last year and moved ELSEWHERE, in different county \n",
        "'B07204_010E', #If different house as last year and moved ELSEWHERE, in same state \n",
        "'B07204_011E', #If different house as last year and moved ELSEWHERE, different state\n",
        "]\n",
        " \n",
        "g_unit = 'tract'\n",
        "g_filter_manhattan = {'state':'36', 'county': '061'} \n",
        "\n",
        "manhattanACS_14 = con.query(columns, geo_unit=g_unit, geo_filter=g_filter_manhattan)\n",
        "\n",
        "#filter to only chinatown\n",
        "chinatown_14 = manhattanACS_14[manhattanACS_14['tract'].isin(chinatown_tracts)]\n",
        "\n",
        "#add identifier for year for when we combine datasets\n",
        "chinatown_14['year'] = 2014"
      ],
      "execution_count": null,
      "outputs": []
    },
    {
      "cell_type": "markdown",
      "metadata": {
        "id": "UG_PlfUvtB42"
      },
      "source": [
        "2013 data"
      ]
    },
    {
      "cell_type": "code",
      "metadata": {
        "id": "EFCWDBpQtBJ5",
        "colab": {
          "base_uri": "https://localhost:8080/"
        },
        "outputId": "8f2673ef-0fc0-4058-a148-1bd34bad81d7"
      },
      "source": [
        "con = cen.remote.APIConnection('ACSDT5Y2013',apikey=CENSUS_API_KEY)\n",
        "\n",
        "# We then want to identify the columns we want to analyze.\n",
        "columns = [\n",
        "'B07204_001E', #Estimate Total \n",
        "'B07204_002E', #Same house as last year \n",
        "'B07204_003E', #Different house as last year\n",
        "'B07204_004E', #If different house as last year, moved within same city/town\n",
        "'B07204_005E', #If moved within same city/town, in the same county still\n",
        "'B07204_006E', #If moved within the same city/town, moved to a different county in the same state\n",
        "'B07204_007E', #If different house as last year, moved ELSEWHERE (NOT same city/town)\n",
        "'B07204_008E', #If different house as last year and moved ELSEWHERE, in same county\n",
        "'B07204_009E', #If different house as last year and moved ELSEWHERE, in different county \n",
        "'B07204_010E', #If different house as last year and moved ELSEWHERE, in same state \n",
        "'B07204_011E', #If different house as last year and moved ELSEWHERE, different state\n",
        "]\n",
        " \n",
        "g_unit = 'tract'\n",
        "g_filter_manhattan = {'state':'36', 'county': '061'} \n",
        "\n",
        "manhattanACS_13 = con.query(columns, geo_unit=g_unit, geo_filter=g_filter_manhattan)\n",
        "\n",
        "#filter to only chinatown\n",
        "chinatown_13 = manhattanACS_13[manhattanACS_13['tract'].isin(chinatown_tracts)]\n",
        "\n",
        "#add identifier for year for when we combine datasets\n",
        "chinatown_13['year'] = 2013"
      ],
      "execution_count": 24,
      "outputs": [
        {
          "output_type": "stream",
          "name": "stderr",
          "text": [
            "/usr/local/lib/python3.7/dist-packages/ipykernel_launcher.py:27: SettingWithCopyWarning: \n",
            "A value is trying to be set on a copy of a slice from a DataFrame.\n",
            "Try using .loc[row_indexer,col_indexer] = value instead\n",
            "\n",
            "See the caveats in the documentation: https://pandas.pydata.org/pandas-docs/stable/user_guide/indexing.html#returning-a-view-versus-a-copy\n"
          ]
        }
      ]
    },
    {
      "cell_type": "markdown",
      "metadata": {
        "id": "bsY7ApkWtKuk"
      },
      "source": [
        "2012 data"
      ]
    },
    {
      "cell_type": "code",
      "metadata": {
        "id": "ViH434vEtLiA"
      },
      "source": [
        "con = cen.remote.APIConnection('ACSDT5Y2012',apikey=CENSUS_API_KEY)\n",
        "\n",
        "# We then want to identify the columns we want to analyze.\n",
        "columns = [\n",
        "'B07204_001E', #Estimate Total \n",
        "'B07204_002E', #Same house as last year \n",
        "'B07204_003E', #Different house as last year\n",
        "'B07204_004E', #If different house as last year, moved within same city/town\n",
        "'B07204_005E', #If moved within same city/town, in the same county still\n",
        "'B07204_006E', #If moved within the same city/town, moved to a different county in the same state\n",
        "'B07204_007E', #If different house as last year, moved ELSEWHERE (NOT same city/town)\n",
        "'B07204_008E', #If different house as last year and moved ELSEWHERE, in same county\n",
        "'B07204_009E', #If different house as last year and moved ELSEWHERE, in different county \n",
        "'B07204_010E', #If different house as last year and moved ELSEWHERE, in same state \n",
        "'B07204_011E', #If different house as last year and moved ELSEWHERE, different state\n",
        "]\n",
        " \n",
        "g_unit = 'tract'\n",
        "g_filter_manhattan = {'state':'36', 'county': '061'} \n",
        "\n",
        "manhattanACS_12 = con.query(columns, geo_unit=g_unit, geo_filter=g_filter_manhattan)\n",
        "\n",
        "#filter to only chinatown\n",
        "chinatown_12 = manhattanACS_12[manhattanACS_12['tract'].isin(chinatown_tracts)]\n",
        "\n",
        "#add identifier for year for when we combine datasets\n",
        "chinatown_12['year'] = 2012"
      ],
      "execution_count": null,
      "outputs": []
    },
    {
      "cell_type": "markdown",
      "metadata": {
        "id": "_y3XwGMvtTfk"
      },
      "source": [
        "2011 data"
      ]
    },
    {
      "cell_type": "code",
      "metadata": {
        "id": "OVAjfIf1tUPH"
      },
      "source": [
        "con = cen.remote.APIConnection('ACSDT5Y2011',apikey=CENSUS_API_KEY)\n",
        "\n",
        "# We then want to identify the columns we want to analyze.\n",
        "columns = [\n",
        "'B07204_001E', #Estimate Total \n",
        "'B07204_002E', #Same house as last year \n",
        "'B07204_003E', #Different house as last year\n",
        "'B07204_004E', #If different house as last year, moved within same city/town\n",
        "'B07204_005E', #If moved within same city/town, in the same county still\n",
        "'B07204_006E', #If moved within the same city/town, moved to a different county in the same state\n",
        "'B07204_007E', #If different house as last year, moved ELSEWHERE (NOT same city/town)\n",
        "'B07204_008E', #If different house as last year and moved ELSEWHERE, in same county\n",
        "'B07204_009E', #If different house as last year and moved ELSEWHERE, in different county \n",
        "'B07204_010E', #If different house as last year and moved ELSEWHERE, in same state \n",
        "'B07204_011E', #If different house as last year and moved ELSEWHERE, different state\n",
        "]\n",
        " \n",
        "g_unit = 'tract'\n",
        "g_filter_manhattan = {'state':'36', 'county': '061'} \n",
        "\n",
        "manhattanACS_11 = con.query(columns, geo_unit=g_unit, geo_filter=g_filter_manhattan)\n",
        "\n",
        "#filter to only chinatown\n",
        "chinatown_11 = manhattanACS_11[manhattanACS_11['tract'].isin(chinatown_tracts)]\n",
        "\n",
        "#add identifier for year for when we combine datasets\n",
        "chinatown_11['year'] = 2011"
      ],
      "execution_count": null,
      "outputs": []
    },
    {
      "cell_type": "markdown",
      "metadata": {
        "id": "q_6KKcy2tgpY"
      },
      "source": [
        "2010 data"
      ]
    },
    {
      "cell_type": "code",
      "metadata": {
        "id": "YCQ3YPDith1y"
      },
      "source": [
        "con = cen.remote.APIConnection('ACSDT5Y2010',apikey=CENSUS_API_KEY)\n",
        "\n",
        "# We then want to identify the columns we want to analyze.\n",
        "columns = [\n",
        "'B07204_001E', #Estimate Total \n",
        "'B07204_002E', #Same house as last year \n",
        "'B07204_003E', #Different house as last year\n",
        "'B07204_004E', #If different house as last year, moved within same city/town\n",
        "'B07204_005E', #If moved within same city/town, in the same county still\n",
        "'B07204_006E', #If moved within the same city/town, moved to a different county in the same state\n",
        "'B07204_007E', #If different house as last year, moved ELSEWHERE (NOT same city/town)\n",
        "'B07204_008E', #If different house as last year and moved ELSEWHERE, in same county\n",
        "'B07204_009E', #If different house as last year and moved ELSEWHERE, in different county \n",
        "'B07204_010E', #If different house as last year and moved ELSEWHERE, in same state \n",
        "'B07204_011E', #If different house as last year and moved ELSEWHERE, different state\n",
        "]\n",
        " \n",
        "g_unit = 'tract'\n",
        "g_filter_manhattan = {'state':'36', 'county': '061'} \n",
        "\n",
        "manhattanACS_10 = con.query(columns, geo_unit=g_unit, geo_filter=g_filter_manhattan)\n",
        "\n",
        "#filter to only chinatown\n",
        "chinatown_10 = manhattanACS_10[manhattanACS_10['tract'].isin(chinatown_tracts)]\n",
        "\n",
        "#add identifier for year for when we combine datasets\n",
        "chinatown_10['year'] = 2010"
      ],
      "execution_count": null,
      "outputs": []
    },
    {
      "cell_type": "markdown",
      "metadata": {
        "id": "kC3gtKKV_mjd"
      },
      "source": [
        "Full data"
      ]
    },
    {
      "cell_type": "code",
      "metadata": {
        "id": "YGGlaLvs6Yi6",
        "colab": {
          "base_uri": "https://localhost:8080/",
          "height": 224
        },
        "outputId": "5cf4f4a9-d012-4a7e-904f-e90508923d82"
      },
      "source": [
        "dfs = [chinatown_10, chinatown_11, chinatown_12, chinatown_13, chinatown_14, chinatown_15, chinatown_16, chinatown_17, chinatown_18, chinatown_19]\n",
        "chinatown_tracts = pd.concat(dfs, ignore_index = True)\n",
        "\n",
        "#rename columns at the end\n",
        "# chinatown_tracts=chinatown_tracts.rename(columns = {\n",
        "#     'B07204_001E':'total',\n",
        "#     'B07204_002E':'samehouse',\n",
        "#     'B07204_003E': 'diffhouse',\n",
        "#     'B07204_004E':'samecity',\n",
        "#     'B07204_005E':'samecity_samecounty',\n",
        "#     'B07204_006E':'samecity_diffcounty',\n",
        "#     'B07204_007E':'elsewhere',\n",
        "#     'B07204_008E':'same_county',\n",
        "#     'B07204_009E': 'diff_county', \n",
        "#     'B07204_010E':'same_state', \n",
        "#     'B07204_011E':'diff_state', \n",
        "#     })\n",
        "\n",
        "chinatown_tracts.head(5)"
      ],
      "execution_count": 47,
      "outputs": [
        {
          "output_type": "execute_result",
          "data": {
            "text/html": [
              "<div>\n",
              "<style scoped>\n",
              "    .dataframe tbody tr th:only-of-type {\n",
              "        vertical-align: middle;\n",
              "    }\n",
              "\n",
              "    .dataframe tbody tr th {\n",
              "        vertical-align: top;\n",
              "    }\n",
              "\n",
              "    .dataframe thead th {\n",
              "        text-align: right;\n",
              "    }\n",
              "</style>\n",
              "<table border=\"1\" class=\"dataframe\">\n",
              "  <thead>\n",
              "    <tr style=\"text-align: right;\">\n",
              "      <th></th>\n",
              "      <th>B07204_001E</th>\n",
              "      <th>B07204_002E</th>\n",
              "      <th>B07204_003E</th>\n",
              "      <th>B07204_004E</th>\n",
              "      <th>B07204_005E</th>\n",
              "      <th>B07204_006E</th>\n",
              "      <th>B07204_007E</th>\n",
              "      <th>B07204_008E</th>\n",
              "      <th>B07204_009E</th>\n",
              "      <th>B07204_010E</th>\n",
              "      <th>B07204_011E</th>\n",
              "      <th>state</th>\n",
              "      <th>county</th>\n",
              "      <th>tract</th>\n",
              "      <th>year</th>\n",
              "    </tr>\n",
              "  </thead>\n",
              "  <tbody>\n",
              "    <tr>\n",
              "      <th>0</th>\n",
              "      <td>7885</td>\n",
              "      <td>7098</td>\n",
              "      <td>557</td>\n",
              "      <td>400</td>\n",
              "      <td>328</td>\n",
              "      <td>72</td>\n",
              "      <td>157</td>\n",
              "      <td>0</td>\n",
              "      <td>157</td>\n",
              "      <td>35</td>\n",
              "      <td>122</td>\n",
              "      <td>36</td>\n",
              "      <td>061</td>\n",
              "      <td>001600</td>\n",
              "      <td>2010</td>\n",
              "    </tr>\n",
              "    <tr>\n",
              "      <th>1</th>\n",
              "      <td>6894</td>\n",
              "      <td>5806</td>\n",
              "      <td>997</td>\n",
              "      <td>685</td>\n",
              "      <td>411</td>\n",
              "      <td>274</td>\n",
              "      <td>312</td>\n",
              "      <td>0</td>\n",
              "      <td>312</td>\n",
              "      <td>143</td>\n",
              "      <td>169</td>\n",
              "      <td>36</td>\n",
              "      <td>061</td>\n",
              "      <td>002900</td>\n",
              "      <td>2010</td>\n",
              "    </tr>\n",
              "    <tr>\n",
              "      <th>2</th>\n",
              "      <td>8274</td>\n",
              "      <td>6654</td>\n",
              "      <td>1540</td>\n",
              "      <td>959</td>\n",
              "      <td>893</td>\n",
              "      <td>66</td>\n",
              "      <td>581</td>\n",
              "      <td>0</td>\n",
              "      <td>581</td>\n",
              "      <td>54</td>\n",
              "      <td>527</td>\n",
              "      <td>36</td>\n",
              "      <td>061</td>\n",
              "      <td>004100</td>\n",
              "      <td>2010</td>\n",
              "    </tr>\n",
              "    <tr>\n",
              "      <th>3</th>\n",
              "      <td>6791</td>\n",
              "      <td>5668</td>\n",
              "      <td>1066</td>\n",
              "      <td>717</td>\n",
              "      <td>466</td>\n",
              "      <td>251</td>\n",
              "      <td>349</td>\n",
              "      <td>0</td>\n",
              "      <td>349</td>\n",
              "      <td>207</td>\n",
              "      <td>142</td>\n",
              "      <td>36</td>\n",
              "      <td>061</td>\n",
              "      <td>002900</td>\n",
              "      <td>2011</td>\n",
              "    </tr>\n",
              "    <tr>\n",
              "      <th>4</th>\n",
              "      <td>7452</td>\n",
              "      <td>6181</td>\n",
              "      <td>1186</td>\n",
              "      <td>841</td>\n",
              "      <td>721</td>\n",
              "      <td>120</td>\n",
              "      <td>345</td>\n",
              "      <td>0</td>\n",
              "      <td>345</td>\n",
              "      <td>0</td>\n",
              "      <td>345</td>\n",
              "      <td>36</td>\n",
              "      <td>061</td>\n",
              "      <td>004100</td>\n",
              "      <td>2011</td>\n",
              "    </tr>\n",
              "  </tbody>\n",
              "</table>\n",
              "</div>"
            ],
            "text/plain": [
              "  B07204_001E B07204_002E B07204_003E B07204_004E  ... state county   tract  year\n",
              "0        7885        7098         557         400  ...    36    061  001600  2010\n",
              "1        6894        5806         997         685  ...    36    061  002900  2010\n",
              "2        8274        6654        1540         959  ...    36    061  004100  2010\n",
              "3        6791        5668        1066         717  ...    36    061  002900  2011\n",
              "4        7452        6181        1186         841  ...    36    061  004100  2011\n",
              "\n",
              "[5 rows x 15 columns]"
            ]
          },
          "metadata": {},
          "execution_count": 47
        }
      ]
    },
    {
      "cell_type": "code",
      "metadata": {
        "id": "VgzztFWNyzZg"
      },
      "source": [
        "#convert all to numeric\n",
        "chinatown_tracts = chinatown_tracts[chinatown_tracts.columns].astype(int)\n",
        "\n",
        "# chinatown_tracts = chinatown_tracts.astype({\n",
        "#     'total': 'int', \n",
        "#     'samehouse': 'int',\n",
        "#     'diffhouse': 'int',\n",
        "#     'same_city': 'int',\n",
        "#     'same_county': 'int', # don't need this actually, because it's 0 in all fields (maybe bc NYC == NY County?)\n",
        "#     'diff_county': 'int',\n",
        "#     'same_state': 'int',\n",
        "#     'diff_state': 'int',\n",
        "#     })\n",
        "\n",
        "chinatown_tracts.head(5)"
      ],
      "execution_count": null,
      "outputs": []
    },
    {
      "cell_type": "code",
      "metadata": {
        "id": "ghEXlLtLn32A"
      },
      "source": [
        "# chinatown_tracts.to_csv('chinatown_tracts.csv')\n",
        "# files.download('chinatown_tracts.csv')"
      ],
      "execution_count": null,
      "outputs": []
    },
    {
      "cell_type": "code",
      "metadata": {
        "colab": {
          "base_uri": "https://localhost:8080/",
          "height": 204
        },
        "id": "fcCRvS7t1Hys",
        "outputId": "93568a30-9c22-496e-86ed-17128f138787"
      },
      "source": [
        "# collapse data by year, group the census tracts\n",
        "chinatown = chinatown_tracts.groupby(['year'])[chinatown_tracts.columns[:11]].sum().reset_index()\n",
        "chinatown.head(5)"
      ],
      "execution_count": 49,
      "outputs": [
        {
          "output_type": "execute_result",
          "data": {
            "text/html": [
              "<div>\n",
              "<style scoped>\n",
              "    .dataframe tbody tr th:only-of-type {\n",
              "        vertical-align: middle;\n",
              "    }\n",
              "\n",
              "    .dataframe tbody tr th {\n",
              "        vertical-align: top;\n",
              "    }\n",
              "\n",
              "    .dataframe thead th {\n",
              "        text-align: right;\n",
              "    }\n",
              "</style>\n",
              "<table border=\"1\" class=\"dataframe\">\n",
              "  <thead>\n",
              "    <tr style=\"text-align: right;\">\n",
              "      <th></th>\n",
              "      <th>year</th>\n",
              "      <th>B07204_001E</th>\n",
              "      <th>B07204_002E</th>\n",
              "      <th>B07204_003E</th>\n",
              "      <th>B07204_004E</th>\n",
              "      <th>B07204_005E</th>\n",
              "      <th>B07204_006E</th>\n",
              "      <th>B07204_007E</th>\n",
              "      <th>B07204_008E</th>\n",
              "      <th>B07204_009E</th>\n",
              "      <th>B07204_010E</th>\n",
              "      <th>B07204_011E</th>\n",
              "    </tr>\n",
              "  </thead>\n",
              "  <tbody>\n",
              "    <tr>\n",
              "      <th>0</th>\n",
              "      <td>2010</td>\n",
              "      <td>23053</td>\n",
              "      <td>19558</td>\n",
              "      <td>3094</td>\n",
              "      <td>2044</td>\n",
              "      <td>1632</td>\n",
              "      <td>412</td>\n",
              "      <td>1050</td>\n",
              "      <td>0</td>\n",
              "      <td>1050</td>\n",
              "      <td>232</td>\n",
              "      <td>818</td>\n",
              "    </tr>\n",
              "    <tr>\n",
              "      <th>1</th>\n",
              "      <td>2011</td>\n",
              "      <td>22065</td>\n",
              "      <td>18840</td>\n",
              "      <td>2881</td>\n",
              "      <td>2032</td>\n",
              "      <td>1592</td>\n",
              "      <td>440</td>\n",
              "      <td>849</td>\n",
              "      <td>0</td>\n",
              "      <td>849</td>\n",
              "      <td>241</td>\n",
              "      <td>608</td>\n",
              "    </tr>\n",
              "    <tr>\n",
              "      <th>2</th>\n",
              "      <td>2012</td>\n",
              "      <td>21165</td>\n",
              "      <td>18146</td>\n",
              "      <td>2594</td>\n",
              "      <td>1897</td>\n",
              "      <td>1524</td>\n",
              "      <td>373</td>\n",
              "      <td>697</td>\n",
              "      <td>0</td>\n",
              "      <td>697</td>\n",
              "      <td>232</td>\n",
              "      <td>465</td>\n",
              "    </tr>\n",
              "    <tr>\n",
              "      <th>3</th>\n",
              "      <td>2013</td>\n",
              "      <td>21757</td>\n",
              "      <td>18866</td>\n",
              "      <td>2529</td>\n",
              "      <td>1874</td>\n",
              "      <td>1349</td>\n",
              "      <td>525</td>\n",
              "      <td>655</td>\n",
              "      <td>0</td>\n",
              "      <td>655</td>\n",
              "      <td>279</td>\n",
              "      <td>376</td>\n",
              "    </tr>\n",
              "    <tr>\n",
              "      <th>4</th>\n",
              "      <td>2014</td>\n",
              "      <td>20904</td>\n",
              "      <td>18106</td>\n",
              "      <td>2374</td>\n",
              "      <td>1853</td>\n",
              "      <td>1206</td>\n",
              "      <td>647</td>\n",
              "      <td>521</td>\n",
              "      <td>0</td>\n",
              "      <td>521</td>\n",
              "      <td>170</td>\n",
              "      <td>351</td>\n",
              "    </tr>\n",
              "  </tbody>\n",
              "</table>\n",
              "</div>"
            ],
            "text/plain": [
              "   year  B07204_001E  B07204_002E  ...  B07204_009E  B07204_010E  B07204_011E\n",
              "0  2010        23053        19558  ...         1050          232          818\n",
              "1  2011        22065        18840  ...          849          241          608\n",
              "2  2012        21165        18146  ...          697          232          465\n",
              "3  2013        21757        18866  ...          655          279          376\n",
              "4  2014        20904        18106  ...          521          170          351\n",
              "\n",
              "[5 rows x 12 columns]"
            ]
          },
          "metadata": {},
          "execution_count": 49
        }
      ]
    },
    {
      "cell_type": "code",
      "metadata": {
        "id": "BPXvlWCh4ZtS",
        "colab": {
          "base_uri": "https://localhost:8080/",
          "height": 224
        },
        "outputId": "a2ecf2d4-f71b-4283-ded8-eab26304be30"
      },
      "source": [
        "# create percent variables\n",
        "\n",
        "# Of all the people who moved, this percent stayed IN NYC\n",
        "chinatown['same_city_pct'] = (chinatown['B07204_004E']/chinatown['B07204_003E'])*100\n",
        "# Of all the people who moved, this percent moved OUT of NYC\n",
        "chinatown['elsewhere_pct'] = (chinatown['B07204_007E']/chinatown['B07204_003E'])*100\n",
        "\n",
        "# Of the people moving IN NYC, this percent STAYED IN MANHATTAN\n",
        "chinatown['in_manhattan_pct'] = (chinatown['B07204_005E']/chinatown['B07204_004E'])*100\n",
        "# Of the people moving IN NYC, this percent MOVED TO ANOTHER BOROUGH\n",
        "chinatown['in_nyc_pct'] = (chinatown['B07204_006E']/chinatown['B07204_004E'])*100\n",
        "\n",
        "# Of the people who LEFT NYC, this percent moved elsewhere in NY\n",
        "chinatown['in_ny_pct'] = (chinatown['B07204_010E']/chinatown['B07204_007E'])*100\n",
        "# Of the people who LEFT NYC, this percent moved out of state\n",
        "chinatown['diff_state_pct'] = (chinatown['B07204_011E']/chinatown['B07204_007E'])*100\n",
        "chinatown.head(5)"
      ],
      "execution_count": 50,
      "outputs": [
        {
          "output_type": "execute_result",
          "data": {
            "text/html": [
              "<div>\n",
              "<style scoped>\n",
              "    .dataframe tbody tr th:only-of-type {\n",
              "        vertical-align: middle;\n",
              "    }\n",
              "\n",
              "    .dataframe tbody tr th {\n",
              "        vertical-align: top;\n",
              "    }\n",
              "\n",
              "    .dataframe thead th {\n",
              "        text-align: right;\n",
              "    }\n",
              "</style>\n",
              "<table border=\"1\" class=\"dataframe\">\n",
              "  <thead>\n",
              "    <tr style=\"text-align: right;\">\n",
              "      <th></th>\n",
              "      <th>year</th>\n",
              "      <th>B07204_001E</th>\n",
              "      <th>B07204_002E</th>\n",
              "      <th>B07204_003E</th>\n",
              "      <th>B07204_004E</th>\n",
              "      <th>B07204_005E</th>\n",
              "      <th>B07204_006E</th>\n",
              "      <th>B07204_007E</th>\n",
              "      <th>B07204_008E</th>\n",
              "      <th>B07204_009E</th>\n",
              "      <th>B07204_010E</th>\n",
              "      <th>B07204_011E</th>\n",
              "      <th>same_city_pct</th>\n",
              "      <th>elsewhere_pct</th>\n",
              "      <th>in_manhattan_pct</th>\n",
              "      <th>in_nyc_pct</th>\n",
              "      <th>in_ny_pct</th>\n",
              "      <th>diff_state_pct</th>\n",
              "    </tr>\n",
              "  </thead>\n",
              "  <tbody>\n",
              "    <tr>\n",
              "      <th>0</th>\n",
              "      <td>2010</td>\n",
              "      <td>23053</td>\n",
              "      <td>19558</td>\n",
              "      <td>3094</td>\n",
              "      <td>2044</td>\n",
              "      <td>1632</td>\n",
              "      <td>412</td>\n",
              "      <td>1050</td>\n",
              "      <td>0</td>\n",
              "      <td>1050</td>\n",
              "      <td>232</td>\n",
              "      <td>818</td>\n",
              "      <td>66.063348</td>\n",
              "      <td>33.936652</td>\n",
              "      <td>79.843444</td>\n",
              "      <td>20.156556</td>\n",
              "      <td>22.095238</td>\n",
              "      <td>77.904762</td>\n",
              "    </tr>\n",
              "    <tr>\n",
              "      <th>1</th>\n",
              "      <td>2011</td>\n",
              "      <td>22065</td>\n",
              "      <td>18840</td>\n",
              "      <td>2881</td>\n",
              "      <td>2032</td>\n",
              "      <td>1592</td>\n",
              "      <td>440</td>\n",
              "      <td>849</td>\n",
              "      <td>0</td>\n",
              "      <td>849</td>\n",
              "      <td>241</td>\n",
              "      <td>608</td>\n",
              "      <td>70.531066</td>\n",
              "      <td>29.468934</td>\n",
              "      <td>78.346457</td>\n",
              "      <td>21.653543</td>\n",
              "      <td>28.386337</td>\n",
              "      <td>71.613663</td>\n",
              "    </tr>\n",
              "    <tr>\n",
              "      <th>2</th>\n",
              "      <td>2012</td>\n",
              "      <td>21165</td>\n",
              "      <td>18146</td>\n",
              "      <td>2594</td>\n",
              "      <td>1897</td>\n",
              "      <td>1524</td>\n",
              "      <td>373</td>\n",
              "      <td>697</td>\n",
              "      <td>0</td>\n",
              "      <td>697</td>\n",
              "      <td>232</td>\n",
              "      <td>465</td>\n",
              "      <td>73.130301</td>\n",
              "      <td>26.869699</td>\n",
              "      <td>80.337375</td>\n",
              "      <td>19.662625</td>\n",
              "      <td>33.285509</td>\n",
              "      <td>66.714491</td>\n",
              "    </tr>\n",
              "    <tr>\n",
              "      <th>3</th>\n",
              "      <td>2013</td>\n",
              "      <td>21757</td>\n",
              "      <td>18866</td>\n",
              "      <td>2529</td>\n",
              "      <td>1874</td>\n",
              "      <td>1349</td>\n",
              "      <td>525</td>\n",
              "      <td>655</td>\n",
              "      <td>0</td>\n",
              "      <td>655</td>\n",
              "      <td>279</td>\n",
              "      <td>376</td>\n",
              "      <td>74.100435</td>\n",
              "      <td>25.899565</td>\n",
              "      <td>71.985059</td>\n",
              "      <td>28.014941</td>\n",
              "      <td>42.595420</td>\n",
              "      <td>57.404580</td>\n",
              "    </tr>\n",
              "    <tr>\n",
              "      <th>4</th>\n",
              "      <td>2014</td>\n",
              "      <td>20904</td>\n",
              "      <td>18106</td>\n",
              "      <td>2374</td>\n",
              "      <td>1853</td>\n",
              "      <td>1206</td>\n",
              "      <td>647</td>\n",
              "      <td>521</td>\n",
              "      <td>0</td>\n",
              "      <td>521</td>\n",
              "      <td>170</td>\n",
              "      <td>351</td>\n",
              "      <td>78.053917</td>\n",
              "      <td>21.946083</td>\n",
              "      <td>65.083648</td>\n",
              "      <td>34.916352</td>\n",
              "      <td>32.629559</td>\n",
              "      <td>67.370441</td>\n",
              "    </tr>\n",
              "  </tbody>\n",
              "</table>\n",
              "</div>"
            ],
            "text/plain": [
              "   year  B07204_001E  B07204_002E  ...  in_nyc_pct  in_ny_pct  diff_state_pct\n",
              "0  2010        23053        19558  ...   20.156556  22.095238       77.904762\n",
              "1  2011        22065        18840  ...   21.653543  28.386337       71.613663\n",
              "2  2012        21165        18146  ...   19.662625  33.285509       66.714491\n",
              "3  2013        21757        18866  ...   28.014941  42.595420       57.404580\n",
              "4  2014        20904        18106  ...   34.916352  32.629559       67.370441\n",
              "\n",
              "[5 rows x 18 columns]"
            ]
          },
          "metadata": {},
          "execution_count": 50
        }
      ]
    },
    {
      "cell_type": "code",
      "metadata": {
        "id": "w7Sgqcrs17Ni"
      },
      "source": [
        "# chinatown.to_csv('chinatown.csv')\n",
        "# files.download('chinatown.csv')"
      ],
      "execution_count": null,
      "outputs": []
    }
  ]
}