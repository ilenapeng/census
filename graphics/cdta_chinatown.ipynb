{
  "nbformat": 4,
  "nbformat_minor": 0,
  "metadata": {
    "colab": {
      "name": "manhattan_geojson.ipynb",
      "provenance": []
    },
    "kernelspec": {
      "name": "python3",
      "display_name": "Python 3"
    },
    "language_info": {
      "name": "python"
    }
  },
  "cells": [
    {
      "cell_type": "code",
      "metadata": {
        "id": "IvmvqmsvgwRL"
      },
      "source": [
        "pip install geopandas"
      ],
      "execution_count": null,
      "outputs": []
    },
    {
      "cell_type": "code",
      "metadata": {
        "id": "yuKm5NFeggdd"
      },
      "source": [
        "import geopandas as gpd\n",
        "import pandas as pd\n",
        "from google.colab import files"
      ],
      "execution_count": 2,
      "outputs": []
    },
    {
      "cell_type": "code",
      "metadata": {
        "colab": {
          "base_uri": "https://localhost:8080/"
        },
        "id": "dBkXXL1FgpAJ",
        "outputId": "46476ab0-de38-41ff-928f-2844ccef2abf"
      },
      "source": [
        "# https://www1.nyc.gov/site/planning/data-maps/open-data/census-download-metadata.page -> 2020, water areas included\n",
        "nyc = gpd.read_file('nyc.geojson')\n",
        "print(nyc.head())"
      ],
      "execution_count": 3,
      "outputs": [
        {
          "output_type": "stream",
          "name": "stdout",
          "text": [
            "   OBJECTID  ...                                           geometry\n",
            "0         1  ...  MULTIPOLYGON (((-74.04388 40.69020, -74.04351 ...\n",
            "1         2  ...  POLYGON ((-73.98450 40.70952, -73.98655 40.709...\n",
            "2         3  ...  MULTIPOLYGON (((-73.98364 40.70960, -73.98450 ...\n",
            "3         4  ...  MULTIPOLYGON (((-74.01093 40.68450, -74.01193 ...\n",
            "4         5  ...  POLYGON ((-73.99022 40.71441, -73.98934 40.714...\n",
            "\n",
            "[5 rows x 15 columns]\n"
          ]
        }
      ]
    },
    {
      "cell_type": "code",
      "metadata": {
        "colab": {
          "base_uri": "https://localhost:8080/"
        },
        "id": "fTAb4rDog3AR",
        "outputId": "efe616f3-5d27-4fb5-8501-a7c839c2eafe"
      },
      "source": [
        "print(nyc.keys())"
      ],
      "execution_count": 4,
      "outputs": [
        {
          "output_type": "stream",
          "name": "stdout",
          "text": [
            "Index(['OBJECTID', 'CTLabel', 'BoroCode', 'BoroName', 'CT2020', 'BoroCT2020',\n",
            "       'CDEligibil', 'NTAName', 'NTA2020', 'CDTA2020', 'CDTANAME', 'GEOID',\n",
            "       'Shape__Area', 'Shape__Length', 'geometry'],\n",
            "      dtype='object')\n"
          ]
        }
      ]
    },
    {
      "cell_type": "code",
      "metadata": {
        "colab": {
          "base_uri": "https://localhost:8080/"
        },
        "id": "RVFO27OcjP4_",
        "outputId": "11872596-6cb4-4baa-8b80-a5ceac74a285"
      },
      "source": [
        "nyc['BoroName']"
      ],
      "execution_count": 5,
      "outputs": [
        {
          "output_type": "execute_result",
          "data": {
            "text/plain": [
              "0           Manhattan\n",
              "1           Manhattan\n",
              "2           Manhattan\n",
              "3           Manhattan\n",
              "4           Manhattan\n",
              "            ...      \n",
              "2320    Staten Island\n",
              "2321    Staten Island\n",
              "2322    Staten Island\n",
              "2323    Staten Island\n",
              "2324    Staten Island\n",
              "Name: BoroName, Length: 2325, dtype: object"
            ]
          },
          "metadata": {},
          "execution_count": 5
        }
      ]
    },
    {
      "cell_type": "code",
      "metadata": {
        "colab": {
          "base_uri": "https://localhost:8080/",
          "height": 417
        },
        "id": "mp8jHdevjhsR",
        "outputId": "bedd5389-1d06-4465-e401-3534a2089745"
      },
      "source": [
        "manhattan = nyc[nyc[\"BoroName\"].isin([\"Manhattan\"])]\n",
        "manhattan.head(3)"
      ],
      "execution_count": 6,
      "outputs": [
        {
          "output_type": "execute_result",
          "data": {
            "text/html": [
              "<div>\n",
              "<style scoped>\n",
              "    .dataframe tbody tr th:only-of-type {\n",
              "        vertical-align: middle;\n",
              "    }\n",
              "\n",
              "    .dataframe tbody tr th {\n",
              "        vertical-align: top;\n",
              "    }\n",
              "\n",
              "    .dataframe thead th {\n",
              "        text-align: right;\n",
              "    }\n",
              "</style>\n",
              "<table border=\"1\" class=\"dataframe\">\n",
              "  <thead>\n",
              "    <tr style=\"text-align: right;\">\n",
              "      <th></th>\n",
              "      <th>OBJECTID</th>\n",
              "      <th>CTLabel</th>\n",
              "      <th>BoroCode</th>\n",
              "      <th>BoroName</th>\n",
              "      <th>CT2020</th>\n",
              "      <th>BoroCT2020</th>\n",
              "      <th>CDEligibil</th>\n",
              "      <th>NTAName</th>\n",
              "      <th>NTA2020</th>\n",
              "      <th>CDTA2020</th>\n",
              "      <th>CDTANAME</th>\n",
              "      <th>GEOID</th>\n",
              "      <th>Shape__Area</th>\n",
              "      <th>Shape__Length</th>\n",
              "      <th>geometry</th>\n",
              "    </tr>\n",
              "  </thead>\n",
              "  <tbody>\n",
              "    <tr>\n",
              "      <th>0</th>\n",
              "      <td>1</td>\n",
              "      <td>1</td>\n",
              "      <td>1</td>\n",
              "      <td>Manhattan</td>\n",
              "      <td>000100</td>\n",
              "      <td>1000100</td>\n",
              "      <td>None</td>\n",
              "      <td>The Battery-Governors Island-Ellis Island-Libe...</td>\n",
              "      <td>MN0191</td>\n",
              "      <td>MN01</td>\n",
              "      <td>MN01 Financial District-Tribeca (CD 1 Equivalent)</td>\n",
              "      <td>36061000100</td>\n",
              "      <td>1.844391e+06</td>\n",
              "      <td>11022.881944</td>\n",
              "      <td>MULTIPOLYGON (((-74.04388 40.69020, -74.04351 ...</td>\n",
              "    </tr>\n",
              "    <tr>\n",
              "      <th>1</th>\n",
              "      <td>2</td>\n",
              "      <td>2.01</td>\n",
              "      <td>1</td>\n",
              "      <td>Manhattan</td>\n",
              "      <td>000201</td>\n",
              "      <td>1000201</td>\n",
              "      <td>None</td>\n",
              "      <td>Chinatown-Two Bridges</td>\n",
              "      <td>MN0301</td>\n",
              "      <td>MN03</td>\n",
              "      <td>MN03 Lower East Side-Chinatown (CD 3 Equivalent)</td>\n",
              "      <td>36061000201</td>\n",
              "      <td>9.723121e+05</td>\n",
              "      <td>4754.494868</td>\n",
              "      <td>POLYGON ((-73.98450 40.70952, -73.98655 40.709...</td>\n",
              "    </tr>\n",
              "    <tr>\n",
              "      <th>2</th>\n",
              "      <td>3</td>\n",
              "      <td>2.02</td>\n",
              "      <td>1</td>\n",
              "      <td>Manhattan</td>\n",
              "      <td>000202</td>\n",
              "      <td>1000202</td>\n",
              "      <td>None</td>\n",
              "      <td>Lower East Side</td>\n",
              "      <td>MN0302</td>\n",
              "      <td>MN03</td>\n",
              "      <td>MN03 Lower East Side-Chinatown (CD 3 Equivalent)</td>\n",
              "      <td>36061000202</td>\n",
              "      <td>3.315114e+06</td>\n",
              "      <td>8568.089568</td>\n",
              "      <td>MULTIPOLYGON (((-73.98364 40.70960, -73.98450 ...</td>\n",
              "    </tr>\n",
              "  </tbody>\n",
              "</table>\n",
              "</div>"
            ],
            "text/plain": [
              "   OBJECTID  ...                                           geometry\n",
              "0         1  ...  MULTIPOLYGON (((-74.04388 40.69020, -74.04351 ...\n",
              "1         2  ...  POLYGON ((-73.98450 40.70952, -73.98655 40.709...\n",
              "2         3  ...  MULTIPOLYGON (((-73.98364 40.70960, -73.98450 ...\n",
              "\n",
              "[3 rows x 15 columns]"
            ]
          },
          "metadata": {},
          "execution_count": 6
        }
      ]
    },
    {
      "cell_type": "code",
      "metadata": {
        "colab": {
          "base_uri": "https://localhost:8080/",
          "height": 649
        },
        "id": "XjHkKIypprbp",
        "outputId": "4e86b4dc-0b12-400b-daa7-192b7b41060f"
      },
      "source": [
        "# Restrict to CDTAs MN03\n",
        "cdta = nyc[nyc[\"CDTA2020\"].isin([\"MN01\", \"MN02\", \"MN03\"])]\n",
        "cdta.head()"
      ],
      "execution_count": 15,
      "outputs": [
        {
          "output_type": "execute_result",
          "data": {
            "text/html": [
              "<div>\n",
              "<style scoped>\n",
              "    .dataframe tbody tr th:only-of-type {\n",
              "        vertical-align: middle;\n",
              "    }\n",
              "\n",
              "    .dataframe tbody tr th {\n",
              "        vertical-align: top;\n",
              "    }\n",
              "\n",
              "    .dataframe thead th {\n",
              "        text-align: right;\n",
              "    }\n",
              "</style>\n",
              "<table border=\"1\" class=\"dataframe\">\n",
              "  <thead>\n",
              "    <tr style=\"text-align: right;\">\n",
              "      <th></th>\n",
              "      <th>OBJECTID</th>\n",
              "      <th>CTLabel</th>\n",
              "      <th>BoroCode</th>\n",
              "      <th>BoroName</th>\n",
              "      <th>CT2020</th>\n",
              "      <th>BoroCT2020</th>\n",
              "      <th>CDEligibil</th>\n",
              "      <th>NTAName</th>\n",
              "      <th>NTA2020</th>\n",
              "      <th>CDTA2020</th>\n",
              "      <th>CDTANAME</th>\n",
              "      <th>GEOID</th>\n",
              "      <th>Shape__Area</th>\n",
              "      <th>Shape__Length</th>\n",
              "      <th>geometry</th>\n",
              "    </tr>\n",
              "  </thead>\n",
              "  <tbody>\n",
              "    <tr>\n",
              "      <th>0</th>\n",
              "      <td>1</td>\n",
              "      <td>1</td>\n",
              "      <td>1</td>\n",
              "      <td>Manhattan</td>\n",
              "      <td>000100</td>\n",
              "      <td>1000100</td>\n",
              "      <td>None</td>\n",
              "      <td>The Battery-Governors Island-Ellis Island-Libe...</td>\n",
              "      <td>MN0191</td>\n",
              "      <td>MN01</td>\n",
              "      <td>MN01 Financial District-Tribeca (CD 1 Equivalent)</td>\n",
              "      <td>36061000100</td>\n",
              "      <td>1.844391e+06</td>\n",
              "      <td>11022.881944</td>\n",
              "      <td>MULTIPOLYGON (((-74.04388 40.69020, -74.04351 ...</td>\n",
              "    </tr>\n",
              "    <tr>\n",
              "      <th>1</th>\n",
              "      <td>2</td>\n",
              "      <td>2.01</td>\n",
              "      <td>1</td>\n",
              "      <td>Manhattan</td>\n",
              "      <td>000201</td>\n",
              "      <td>1000201</td>\n",
              "      <td>None</td>\n",
              "      <td>Chinatown-Two Bridges</td>\n",
              "      <td>MN0301</td>\n",
              "      <td>MN03</td>\n",
              "      <td>MN03 Lower East Side-Chinatown (CD 3 Equivalent)</td>\n",
              "      <td>36061000201</td>\n",
              "      <td>9.723121e+05</td>\n",
              "      <td>4754.494868</td>\n",
              "      <td>POLYGON ((-73.98450 40.70952, -73.98655 40.709...</td>\n",
              "    </tr>\n",
              "    <tr>\n",
              "      <th>2</th>\n",
              "      <td>3</td>\n",
              "      <td>2.02</td>\n",
              "      <td>1</td>\n",
              "      <td>Manhattan</td>\n",
              "      <td>000202</td>\n",
              "      <td>1000202</td>\n",
              "      <td>None</td>\n",
              "      <td>Lower East Side</td>\n",
              "      <td>MN0302</td>\n",
              "      <td>MN03</td>\n",
              "      <td>MN03 Lower East Side-Chinatown (CD 3 Equivalent)</td>\n",
              "      <td>36061000202</td>\n",
              "      <td>3.315114e+06</td>\n",
              "      <td>8568.089568</td>\n",
              "      <td>MULTIPOLYGON (((-73.98364 40.70960, -73.98450 ...</td>\n",
              "    </tr>\n",
              "    <tr>\n",
              "      <th>3</th>\n",
              "      <td>4</td>\n",
              "      <td>5</td>\n",
              "      <td>1</td>\n",
              "      <td>Manhattan</td>\n",
              "      <td>000500</td>\n",
              "      <td>1000500</td>\n",
              "      <td>None</td>\n",
              "      <td>The Battery-Governors Island-Ellis Island-Libe...</td>\n",
              "      <td>MN0191</td>\n",
              "      <td>MN01</td>\n",
              "      <td>MN01 Financial District-Tribeca (CD 1 Equivalent)</td>\n",
              "      <td>36061000500</td>\n",
              "      <td>9.083181e+06</td>\n",
              "      <td>32641.900715</td>\n",
              "      <td>MULTIPOLYGON (((-74.01093 40.68450, -74.01193 ...</td>\n",
              "    </tr>\n",
              "    <tr>\n",
              "      <th>4</th>\n",
              "      <td>5</td>\n",
              "      <td>6</td>\n",
              "      <td>1</td>\n",
              "      <td>Manhattan</td>\n",
              "      <td>000600</td>\n",
              "      <td>1000600</td>\n",
              "      <td>None</td>\n",
              "      <td>Chinatown-Two Bridges</td>\n",
              "      <td>MN0301</td>\n",
              "      <td>MN03</td>\n",
              "      <td>MN03 Lower East Side-Chinatown (CD 3 Equivalent)</td>\n",
              "      <td>36061000600</td>\n",
              "      <td>2.582705e+06</td>\n",
              "      <td>6976.286329</td>\n",
              "      <td>POLYGON ((-73.99022 40.71441, -73.98934 40.714...</td>\n",
              "    </tr>\n",
              "  </tbody>\n",
              "</table>\n",
              "</div>"
            ],
            "text/plain": [
              "   OBJECTID  ...                                           geometry\n",
              "0         1  ...  MULTIPOLYGON (((-74.04388 40.69020, -74.04351 ...\n",
              "1         2  ...  POLYGON ((-73.98450 40.70952, -73.98655 40.709...\n",
              "2         3  ...  MULTIPOLYGON (((-73.98364 40.70960, -73.98450 ...\n",
              "3         4  ...  MULTIPOLYGON (((-74.01093 40.68450, -74.01193 ...\n",
              "4         5  ...  POLYGON ((-73.99022 40.71441, -73.98934 40.714...\n",
              "\n",
              "[5 rows x 15 columns]"
            ]
          },
          "metadata": {},
          "execution_count": 15
        }
      ]
    },
    {
      "cell_type": "code",
      "metadata": {
        "id": "mqsZx89tj-s5"
      },
      "source": [
        "manhattan.to_file(\"manhattan.geojson\", driver=\"GeoJSON\")\n",
        "files.download('manhattan.geojson')"
      ],
      "execution_count": null,
      "outputs": []
    },
    {
      "cell_type": "code",
      "metadata": {
        "id": "J2f-HEDSuI9k"
      },
      "source": [
        "cdta.to_file(\"cdta.geojson\", driver=\"GeoJSON\")\n",
        "files.download('cdta.geojson')"
      ],
      "execution_count": null,
      "outputs": []
    }
  ]
}
