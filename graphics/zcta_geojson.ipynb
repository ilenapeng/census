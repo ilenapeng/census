{
 "cells": [
  {
   "cell_type": "code",
   "execution_count": 1,
   "id": "88bea3e1",
   "metadata": {},
   "outputs": [],
   "source": [
    "# !pip install geopandas"
   ]
  },
  {
   "cell_type": "code",
   "execution_count": 2,
   "id": "563be1c1",
   "metadata": {},
   "outputs": [
    {
     "name": "stderr",
     "output_type": "stream",
     "text": [
      "/Users/ilenapeng/.pyenv/versions/3.9.7/lib/python3.9/site-packages/pandas/compat/__init__.py:124: UserWarning: Could not import the lzma module. Your installed Python is incomplete. Attempting to use lzma compression will result in a RuntimeError.\n",
      "  warnings.warn(msg)\n"
     ]
    }
   ],
   "source": [
    "import geopandas as gpd\n",
    "import pandas as pd"
   ]
  },
  {
   "cell_type": "code",
   "execution_count": 3,
   "id": "dc87c49f",
   "metadata": {},
   "outputs": [],
   "source": [
    "zcta = gpd.read_file('tl_2021_us_zcta520.json')"
   ]
  },
  {
   "cell_type": "code",
   "execution_count": 4,
   "id": "6f26d3c6",
   "metadata": {},
   "outputs": [
    {
     "name": "stdout",
     "output_type": "stream",
     "text": [
      "Index(['ZCTA5CE20', 'GEOID20', 'CLASSFP20', 'MTFCC20', 'FUNCSTAT20', 'ALAND20',\n",
      "       'AWATER20', 'INTPTLAT20', 'INTPTLON20', 'geometry'],\n",
      "      dtype='object')\n"
     ]
    }
   ],
   "source": [
    "print(zcta.keys())"
   ]
  },
  {
   "cell_type": "code",
   "execution_count": 5,
   "id": "7dd00f4b",
   "metadata": {},
   "outputs": [
    {
     "name": "stdout",
     "output_type": "stream",
     "text": [
      "0        47236\n",
      "1        47870\n",
      "2        47851\n",
      "3        47337\n",
      "4        47435\n",
      "         ...  \n",
      "33786    37932\n",
      "33787    37341\n",
      "33788    37849\n",
      "33789    37754\n",
      "33790    37806\n",
      "Name: ZCTA5CE20, Length: 33791, dtype: object\n"
     ]
    }
   ],
   "source": [
    "print(zcta['ZCTA5CE20'])"
   ]
  },
  {
   "cell_type": "code",
   "execution_count": 6,
   "id": "553b97f9",
   "metadata": {},
   "outputs": [
    {
     "data": {
      "text/html": [
       "<div>\n",
       "<style scoped>\n",
       "    .dataframe tbody tr th:only-of-type {\n",
       "        vertical-align: middle;\n",
       "    }\n",
       "\n",
       "    .dataframe tbody tr th {\n",
       "        vertical-align: top;\n",
       "    }\n",
       "\n",
       "    .dataframe thead th {\n",
       "        text-align: right;\n",
       "    }\n",
       "</style>\n",
       "<table border=\"1\" class=\"dataframe\">\n",
       "  <thead>\n",
       "    <tr style=\"text-align: right;\">\n",
       "      <th></th>\n",
       "      <th>ZCTA5CE20</th>\n",
       "      <th>GEOID20</th>\n",
       "      <th>CLASSFP20</th>\n",
       "      <th>MTFCC20</th>\n",
       "      <th>FUNCSTAT20</th>\n",
       "      <th>ALAND20</th>\n",
       "      <th>AWATER20</th>\n",
       "      <th>INTPTLAT20</th>\n",
       "      <th>INTPTLON20</th>\n",
       "      <th>geometry</th>\n",
       "    </tr>\n",
       "  </thead>\n",
       "  <tbody>\n",
       "    <tr>\n",
       "      <th>25580</th>\n",
       "      <td>10002</td>\n",
       "      <td>10002</td>\n",
       "      <td>B5</td>\n",
       "      <td>G6350</td>\n",
       "      <td>S</td>\n",
       "      <td>2129725</td>\n",
       "      <td>0</td>\n",
       "      <td>+40.7159693</td>\n",
       "      <td>-073.9868946</td>\n",
       "      <td>POLYGON ((-73.99750 40.71407, -73.99730 40.713...</td>\n",
       "    </tr>\n",
       "    <tr>\n",
       "      <th>25612</th>\n",
       "      <td>10013</td>\n",
       "      <td>10013</td>\n",
       "      <td>B5</td>\n",
       "      <td>G6350</td>\n",
       "      <td>S</td>\n",
       "      <td>1409917</td>\n",
       "      <td>0</td>\n",
       "      <td>+40.7200512</td>\n",
       "      <td>-074.0048091</td>\n",
       "      <td>POLYGON ((-74.01109 40.72611, -74.01111 40.726...</td>\n",
       "    </tr>\n",
       "  </tbody>\n",
       "</table>\n",
       "</div>"
      ],
      "text/plain": [
       "      ZCTA5CE20 GEOID20 CLASSFP20 MTFCC20 FUNCSTAT20  ALAND20  AWATER20  \\\n",
       "25580     10002   10002        B5   G6350          S  2129725         0   \n",
       "25612     10013   10013        B5   G6350          S  1409917         0   \n",
       "\n",
       "        INTPTLAT20    INTPTLON20  \\\n",
       "25580  +40.7159693  -073.9868946   \n",
       "25612  +40.7200512  -074.0048091   \n",
       "\n",
       "                                                geometry  \n",
       "25580  POLYGON ((-73.99750 40.71407, -73.99730 40.713...  \n",
       "25612  POLYGON ((-74.01109 40.72611, -74.01111 40.726...  "
      ]
     },
     "execution_count": 6,
     "metadata": {},
     "output_type": "execute_result"
    }
   ],
   "source": [
    "zcta_chinatown = zcta[(zcta.ZCTA5CE20 == '10013') | (zcta.ZCTA5CE20 == '10002')]\n",
    "zcta_chinatown"
   ]
  },
  {
   "cell_type": "code",
   "execution_count": 7,
   "id": "1b6cf04c",
   "metadata": {},
   "outputs": [],
   "source": [
    "zcta_chinatown.to_file(\"zcta_chinatown.geojson\", driver=\"GeoJSON\")"
   ]
  }
 ],
 "metadata": {
  "kernelspec": {
   "display_name": "Python 3 (ipykernel)",
   "language": "python",
   "name": "python3"
  },
  "language_info": {
   "codemirror_mode": {
    "name": "ipython",
    "version": 3
   },
   "file_extension": ".py",
   "mimetype": "text/x-python",
   "name": "python",
   "nbconvert_exporter": "python",
   "pygments_lexer": "ipython3",
   "version": "3.9.7"
  }
 },
 "nbformat": 4,
 "nbformat_minor": 5
}
